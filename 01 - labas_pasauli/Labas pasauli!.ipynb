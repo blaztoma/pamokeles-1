{
  "cells": [
    {
      "attachments": {},
      "cell_type": "markdown",
      "metadata": {},
      "source": [
        "[![Open In Colab](https://colab.research.google.com/assets/colab-badge.svg)](https://colab.research.google.com/github/blaztoma/pamokeles-1/blob/main/01%20-%20labas_pasauli/Labas%20pasauli!.ipynb)"
      ]
    },
    {
      "attachments": {},
      "cell_type": "markdown",
      "metadata": {},
      "source": [
        "# Mokymosi aplinkos"
      ]
    },
    {
      "attachments": {},
      "cell_type": "markdown",
      "metadata": {},
      "source": [
        "Šiame kurse naudosime dvi aplinkas: Google Colaboratory ir Moodle. Colaboratory aplinka daugiau skirta susipažinimui su teorine medžiaga, tačiau joje irgi galima vykdyti pitono programas. Moodle aplinkoje surinkti įvairūs resursai - kvizai, praktikavimosi užduotys ir kita. Joje taip pat reikės vykdyti programas. Moodle aplinka aprašyta Moodle kurse."
      ]
    },
    {
      "attachments": {},
      "cell_type": "markdown",
      "metadata": {},
      "source": [
        "## Colaboratory aplinka"
      ]
    },
    {
      "attachments": {},
      "cell_type": "markdown",
      "metadata": {},
      "source": [
        "Pradėkime susipažinimą su Colaboratory aplinka. Ši aplinka kiek skiriasi nuo tradicinių programavimo aplinkų. Joje galima rašyti tekstus ir programos kodus toje pačioje vietoje. Perskaitę šį tekstą pamėginkite įvykdyti žemiau esančia programą."
      ]
    },
    {
      "cell_type": "code",
      "execution_count": null,
      "metadata": {},
      "outputs": [],
      "source": [
        "print(\"Labas!\")"
      ]
    },
    {
      "attachments": {},
      "cell_type": "markdown",
      "metadata": {},
      "source": [
        "### Užduotis"
      ]
    },
    {
      "attachments": {},
      "cell_type": "markdown",
      "metadata": {},
      "source": [
        "Na kaip, pavyko!? Tikrai turėjo pavykti. Na o dabar patys, savo paskyroje atlikite šiuos veiksmus:\n",
        "* Sukurkite failą pavadinimu \"Labas, pasauli!\"\n",
        "* Parašykite savo pirmąją programą, kuri parašytų \"Laabas, pasauli!\"\n",
        "* Įvykdykite programą ir pažiūrėkite ar ji pateikia tai ko tikėjotės."
      ]
    }
  ],
  "metadata": {
    "language_info": {
      "name": "python"
    }
  },
  "nbformat": 4,
  "nbformat_minor": 0
}
